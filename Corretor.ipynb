{
  "nbformat": 4,
  "nbformat_minor": 0,
  "metadata": {
    "colab": {
      "name": "Corretor.ipynb",
      "provenance": [],
      "collapsed_sections": [],
      "toc_visible": true
    },
    "kernelspec": {
      "name": "python3",
      "display_name": "Python 3"
    },
    "language_info": {
      "name": "python"
    }
  },
  "cells": [
    {
      "cell_type": "markdown",
      "metadata": {
        "id": "ThLcaWNT4JG-"
      },
      "source": [
        "# [Corretor Ortográfico em Python: Aplicando técnicas de NLP](https://cursos.alura.com.br/course/nlp-corretor-ortografico)\n",
        "\n",
        "\n"
      ]
    },
    {
      "cell_type": "code",
      "metadata": {
        "id": "NbWYHdLFk4Ti",
        "colab": {
          "base_uri": "https://localhost:8080/"
        },
        "outputId": "a1fbdc06-a126-400d-b906-13882e95ad18"
      },
      "source": [
        "#Lendo o arquivo\n",
        "with open('artigos.txt', 'r') as f:\n",
        "  artigos = f.read()\n",
        "\n",
        "\n",
        "#Lendo os primeiros 500 caracteres\n",
        "print(artigos[:500])"
      ],
      "execution_count": 11,
      "outputs": [
        {
          "output_type": "stream",
          "text": [
            "\n",
            "\n",
            "\n",
            "imagem \n",
            "\n",
            "Temos a seguinte classe que representa um usuário no nosso sistema:\n",
            "\n",
            "java\n",
            "\n",
            "Para salvar um novo usuário, várias validações são feitas, como por exemplo: Ver se o nome só contém letras, [**o CPF só números**] e ver se o usuário possui no mínimo 18 anos. Veja o método que faz essa validação:\n",
            "\n",
            "java \n",
            "\n",
            "Suponha agora que eu tenha outra classe, a classe `Produto`, que contém um atributo nome e eu quero fazer a mesma validação que fiz para o nome do usuário: Ver se só contém letras. E aí? Vou\n"
          ],
          "name": "stdout"
        }
      ]
    },
    {
      "cell_type": "code",
      "metadata": {
        "colab": {
          "base_uri": "https://localhost:8080/"
        },
        "id": "6fOIwTsV3cgO",
        "outputId": "66215332-3d96-49c8-eba1-42fda52aa385"
      },
      "source": [
        "#Verificando a quantidade de palavras\n",
        "len(artigos)"
      ],
      "execution_count": 12,
      "outputs": [
        {
          "output_type": "execute_result",
          "data": {
            "text/plain": [
              "2605046"
            ]
          },
          "metadata": {
            "tags": []
          },
          "execution_count": 12
        }
      ]
    },
    {
      "cell_type": "code",
      "metadata": {
        "id": "tUNOibfD30ch"
      },
      "source": [
        "texto_exemplo = \"Olá, tudo bem?\"\n",
        "#separando em tokens as palavras\n",
        "tokens = texto_exemplo.split()"
      ],
      "execution_count": 13,
      "outputs": []
    },
    {
      "cell_type": "code",
      "metadata": {
        "colab": {
          "base_uri": "https://localhost:8080/"
        },
        "id": "6h3MVSzn88Wd",
        "outputId": "dbd4f552-3e2e-479e-ead8-91b9674e3c43"
      },
      "source": [
        "#imprimindo a quantidade de palavras\n",
        "print(len(tokens))"
      ],
      "execution_count": 14,
      "outputs": [
        {
          "output_type": "stream",
          "text": [
            "3\n"
          ],
          "name": "stdout"
        }
      ]
    },
    {
      "cell_type": "code",
      "metadata": {
        "colab": {
          "base_uri": "https://localhost:8080/"
        },
        "id": "PBzyXbTv9w4E",
        "outputId": "135d390b-7bba-4d26-b3ca-43fe231d720b"
      },
      "source": [
        "#imprimindo as palavras\n",
        "print(tokens)"
      ],
      "execution_count": 15,
      "outputs": [
        {
          "output_type": "stream",
          "text": [
            "['Olá,', 'tudo', 'bem?']\n"
          ],
          "name": "stdout"
        }
      ]
    },
    {
      "cell_type": "code",
      "metadata": {
        "id": "YnKBBypg9yeM",
        "colab": {
          "base_uri": "https://localhost:8080/"
        },
        "outputId": "cf98e64f-5661-4c4c-9b41-dba702c0721f"
      },
      "source": [
        "#Importando biblioteca nltk\n",
        "import nltk\n",
        "nltk.download('punkt')\n",
        "#separando as palavras por tokens\n",
        "palavras_separadas = nltk.tokenize.word_tokenize(texto_exemplo)"
      ],
      "execution_count": 17,
      "outputs": [
        {
          "output_type": "stream",
          "text": [
            "[nltk_data] Downloading package punkt to /root/nltk_data...\n",
            "[nltk_data]   Unzipping tokenizers/punkt.zip.\n",
            "['Olá', ',', 'tudo', 'bem', '?']\n"
          ],
          "name": "stdout"
        }
      ]
    },
    {
      "cell_type": "code",
      "metadata": {
        "colab": {
          "base_uri": "https://localhost:8080/"
        },
        "id": "8bwkI7FZBWbQ",
        "outputId": "570eeb8b-c030-4375-af4b-5cfe7774613a"
      },
      "source": [
        "#Exibindo as palavras por que foram separadas\n",
        "print(palavras_separadas)"
      ],
      "execution_count": 18,
      "outputs": [
        {
          "output_type": "stream",
          "text": [
            "['Olá', ',', 'tudo', 'bem', '?']\n"
          ],
          "name": "stdout"
        }
      ]
    },
    {
      "cell_type": "code",
      "metadata": {
        "colab": {
          "base_uri": "https://localhost:8080/"
        },
        "id": "yoNtP32TCTXO",
        "outputId": "28907f26-8850-46c4-baa0-75ae26125cf0"
      },
      "source": [
        "#Verificando palavras separadas (5 tokens, porem 3 palavras)\n",
        "len(palavras_separadas)"
      ],
      "execution_count": 19,
      "outputs": [
        {
          "output_type": "execute_result",
          "data": {
            "text/plain": [
              "5"
            ]
          },
          "metadata": {
            "tags": []
          },
          "execution_count": 19
        }
      ]
    },
    {
      "cell_type": "code",
      "metadata": {
        "colab": {
          "base_uri": "https://localhost:8080/"
        },
        "id": "4uZGPsKEHC_Z",
        "outputId": "261ece0e-2643-4fc7-bdfe-3c324cd3748f"
      },
      "source": [
        "#utilizando método para identificar se todos os caracteres são alfabeticos\n",
        "'palavra'.isalpha()"
      ],
      "execution_count": 21,
      "outputs": [
        {
          "output_type": "execute_result",
          "data": {
            "text/plain": [
              "True"
            ]
          },
          "metadata": {
            "tags": []
          },
          "execution_count": 21
        }
      ]
    },
    {
      "cell_type": "code",
      "metadata": {
        "colab": {
          "base_uri": "https://localhost:8080/"
        },
        "id": "yw-KWtAfGuV-",
        "outputId": "c67e9183-4be7-4838-dc53-47a188dac25a"
      },
      "source": [
        "def separa_palavras(lista_tokens):\n",
        "  lista_palavras = []\n",
        "  for token in lista_tokens:\n",
        "    if token.isalpha():\n",
        "      lista_palavras.append(token)  \n",
        "\n",
        "  return lista_palavras\n",
        "\n",
        "separa_palavras(palavras_separadas)"
      ],
      "execution_count": 24,
      "outputs": [
        {
          "output_type": "execute_result",
          "data": {
            "text/plain": [
              "['Olá', 'tudo', 'bem']"
            ]
          },
          "metadata": {
            "tags": []
          },
          "execution_count": 24
        }
      ]
    },
    {
      "cell_type": "code",
      "metadata": {
        "colab": {
          "base_uri": "https://localhost:8080/"
        },
        "id": "DI6SUZpgHdJH",
        "outputId": "2bb03600-f924-4708-d488-dbf24e4c9a00"
      },
      "source": [
        "# Gerando tokens a partir do array de palavras do artigo\n",
        "lista_tokens = nltk.tokenize.word_tokenize(artigos)\n",
        "lista_palavras = separa_palavras(lista_tokens)\n",
        "print(f'O número de palavras é {len(lista_palavras)}')"
      ],
      "execution_count": 26,
      "outputs": [
        {
          "output_type": "stream",
          "text": [
            "O número de palavras é 393914\n"
          ],
          "name": "stdout"
        }
      ]
    },
    {
      "cell_type": "code",
      "metadata": {
        "colab": {
          "base_uri": "https://localhost:8080/"
        },
        "id": "a96LBFbuJL7z",
        "outputId": "761d036c-2bdf-4f45-f21f-511f76f86972"
      },
      "source": [
        "# Exibindo as 5 primeiras palavras\n",
        "print(lista_palavras[:5])"
      ],
      "execution_count": 27,
      "outputs": [
        {
          "output_type": "stream",
          "text": [
            "['imagem', 'Temos', 'a', 'seguinte', 'classe']\n"
          ],
          "name": "stdout"
        }
      ]
    },
    {
      "cell_type": "code",
      "metadata": {
        "colab": {
          "base_uri": "https://localhost:8080/"
        },
        "id": "xVwSc2r_KEsR",
        "outputId": "8840c732-afc5-4d9e-dd6e-8fa8b0e2c21e"
      },
      "source": [
        "#Criando função para normalizar as palavras\n",
        "def normalizacao(lista_palavras):\n",
        "  lista_normalizada = []\n",
        "  for palavra in lista_palavras:\n",
        "    lista_normalizada.append(palavra.lower())\n",
        "  return lista_normalizada\n",
        "\n",
        "\n",
        "#normalizando a lista\n",
        "lista_normalizada = normalizacao(lista_palavras)\n",
        "print(lista_normalizada[:5])"
      ],
      "execution_count": 31,
      "outputs": [
        {
          "output_type": "stream",
          "text": [
            "['imagem', 'temos', 'a', 'seguinte', 'classe']\n"
          ],
          "name": "stdout"
        }
      ]
    },
    {
      "cell_type": "code",
      "metadata": {
        "colab": {
          "base_uri": "https://localhost:8080/"
        },
        "id": "3Y3f4_aSKkFH",
        "outputId": "2630fbe8-82f9-4412-b3a3-db98ff53eebb"
      },
      "source": [
        "#o set retorna um conjunto sem repetição\n",
        "#retornando a quantidade de palavras diferentes\n",
        "len(set(lista_normalizada))"
      ],
      "execution_count": 33,
      "outputs": [
        {
          "output_type": "execute_result",
          "data": {
            "text/plain": [
              "17652"
            ]
          },
          "metadata": {
            "tags": []
          },
          "execution_count": 33
        }
      ]
    },
    {
      "cell_type": "code",
      "metadata": {
        "id": "zf_XbEJNLCSI"
      },
      "source": [
        ""
      ],
      "execution_count": null,
      "outputs": []
    }
  ]
}